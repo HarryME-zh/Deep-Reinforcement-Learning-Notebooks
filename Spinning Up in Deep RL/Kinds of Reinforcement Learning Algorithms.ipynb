{
 "cells": [
  {
   "cell_type": "markdown",
   "metadata": {},
   "source": [
    "# Kinds of RL Algorithms\n",
    "![Reinforcement Learning Algorithms](algs.png)"
   ]
  },
  {
   "cell_type": "markdown",
   "metadata": {},
   "source": [
    "### What to learn : \n",
    "- transfer-learning\n",
    "- exploration\n",
    "- meta-learning\n",
    "- policies, either stochastic or deterministic,\n",
    "* action-value functions (Q-functions),\n",
    "    value functions,\n",
    "    and/or environment models.\n",
    "\n",
    "# Model :\n",
    "Defining if the agent has access ( or can learn ) a model of the environement is asking whether he has access to a function whichs predicts state transitions and rewards ( when he does an action on a state he knows to which reward and new state it leads allowing him to plan from that but sensible to bias).\n",
    "The problem is that in many problems there is no model avaible for the agent, in that case he learns it from experience.\n",
    "***Model-Based*** : Algorithms that can use models.\n",
    "***Model-Free*** : Algorithms without access to a prediction model."
   ]
  },
  {
   "cell_type": "markdown",
   "metadata": {},
   "source": [
    "## Model-Free Reinfrocement Learning\n",
    "2 main approaches co-exist : \n"
   ]
  },
  {
   "cell_type": "markdown",
   "metadata": {},
   "source": [
    "### Policy optimization : Methods in this family represent a policy explicitly as $\\pi_{\\theta}(a|s)$. They optimize the parameters \\theta either directly by gradient ascent on the performance objective $J(\\pi_{\\theta})$, or indirectly, by maximizing local approximations of J(\\pi_{\\theta}). This optimization is almost always performed on-policy, which means that each update only uses data collected while acting according to the most recent version of the policy. Policy optimization also usually involves learning an approximator $V_{\\phi}(s)$ for the on-policy value function $V^{\\pi}(s)$, which gets used in figuring out how to update the policy.\n",
    "\n",
    "A couple of examples of policy optimization methods are:\n",
    "\n",
    "- A2C / A3C, which performs gradient ascent to directly maximize performance,\n",
    "- PPO, whose updates indirectly maximize performance, by instead maximizing a surrogate objective function which gives a conservative estimate for how much $J(\\pi_{\\theta})$ will change as a result of the update.\n"
   ]
  },
  {
   "cell_type": "markdown",
   "metadata": {},
   "source": [
    "### Q-Learning :\n",
    "Methods in this family learn an approximator Q_{\\theta}(s,a) for the optimal action-value function, Q^*(s,a). Typically they use an objective function based on the Bellman equation. This optimization is almost always performed off-policy, which means that each update can use data collected at any point during training, regardless of how the agent was choosing to explore the environment when the data was obtained. The corresponding policy is obtained via the connection between Q^* and \\pi^*: the actions taken by the Q-learning agent are given by\n",
    "\n",
    "$a(s) = \\arg \\max_a Q_{\\theta}(s,a)$.\n",
    "\n",
    "Examples of Q-learning methods include\n",
    "\n",
    "    DQN, a classic which substantially launched the field of deep RL,\n",
    "    and C51, a variant that learns a distribution over return whose expectation is Q^*.\n",
    "\n",
    "Trade-offs Between Policy Optimization and Q-Learning. The primary strength of policy optimization methods is that they are principled, in the sense that you directly optimize for the thing you want. This tends to make them stable and reliable. By contrast, Q-learning methods only indirectly optimize for agent performance, by training Q_{\\theta} to satisfy a self-consistency equation. There are many failure modes for this kind of learning, so it tends to be less stable.  But, Q-learning methods gain the advantage of being substantially more sample efficient when they do work, because they can reuse data more effectively than policy optimization techniques.\n",
    "\n",
    "Interpolating Between Policy Optimization and Q-Learning. Serendipitously, policy optimization and Q-learning are not incompatible (and under some circumstances, it turns out, equivalent), and there exist a range of algorithms that live in between the two extremes. Algorithms that live on this spectrum are able to carefully trade-off between the strengths and weaknesses of either side. Examples include\n",
    "\n",
    "    DDPG, an algorithm which concurrently learns a deterministic policy and a Q-function by using each to improve the other,\n",
    "    and SAC, a variant which uses stochastic policies, entropy regularization, and a few other tricks to stabilize learning and score higher than DDPG on standard benchmarks.\n"
   ]
  },
  {
   "cell_type": "markdown",
   "metadata": {},
   "source": [
    "## Model-Based Reinforcement Learning\n",
    "Unlike model-free RL, there aren’t a small number of easy-to-define clusters of methods for model-based RL: there are many orthogonal ways of using models. We’ll give a few examples, but the list is far from exhaustive. In each case, the model may either be given or learned.\n",
    "\n",
    "Background: Pure Planning. The most basic approach never explicitly represents the policy, and instead, uses pure planning techniques like model-predictive control (MPC) to select actions. In MPC, each time the agent observes the environment, it computes a plan which is optimal with respect to the model, where the plan describes all actions to take over some fixed window of time after the present. (Future rewards beyond the horizon may be considered by the planning algorithm through the use of a learned value function.) The agent then executes the first action of the plan, and immediately discards the rest of it. It computes a new plan each time it prepares to interact with the environment, to avoid using an action from a plan with a shorter-than-desired planning horizon.\n",
    "\n",
    "    The MBMF work explores MPC with learned environment models on some standard benchmark tasks for deep RL.\n",
    "\n",
    "Expert Iteration. A straightforward follow-on to pure planning involves using and learning an explicit representation of the policy, $\\pi_{\\theta}(a|s)$. The agent uses a planning algorithm (like Monte Carlo Tree Search) in the model, generating candidate actions for the plan by sampling from its current policy. The planning algorithm produces an action which is better than what the policy alone would have produced, hence it is an “expert” relative to the policy. The policy is afterwards updated to produce an action more like the planning algorithm’s output.\n",
    "\n",
    "    The ExIt algorithm uses this approach to train deep neural networks to play Hex.\n",
    "    AlphaZero is another example of this approach.\n",
    "\n",
    "Data Augmentation for Model-Free Methods. Use a model-free RL algorithm to train a policy or Q-function, but either 1) augment real experiences with fictitious ones in updating the agent, or 2) use only fictitous experience for updating the agent.\n",
    "\n",
    "    See MBVE for an example of augmenting real experiences with fictitious ones.\n",
    "    See World Models for an example of using purely fictitious experience to train the agent, which they call “training in the dream.”\n",
    "\n",
    "Embedding Planning Loops into Policies. Another approach embeds the planning procedure directly into a policy as a subroutine—so that complete plans become side information for the policy—while training the output of the policy with any standard model-free algorithm. The key concept is that in this framework, the policy can learn to choose how and when to use the plans. This makes model bias less of a problem, because if the model is bad for planning in some states, the policy can simply learn to ignore it."
   ]
  },
  {
   "cell_type": "code",
   "execution_count": null,
   "metadata": {},
   "outputs": [],
   "source": []
  }
 ],
 "metadata": {
  "kernelspec": {
   "display_name": "Python 3",
   "language": "python",
   "name": "python3"
  },
  "language_info": {
   "codemirror_mode": {
    "name": "ipython",
    "version": 3
   },
   "file_extension": ".py",
   "mimetype": "text/x-python",
   "name": "python",
   "nbconvert_exporter": "python",
   "pygments_lexer": "ipython3",
   "version": "3.7.5"
  }
 },
 "nbformat": 4,
 "nbformat_minor": 2
}
