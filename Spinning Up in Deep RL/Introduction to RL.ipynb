{
 "cells": [
  {
   "cell_type": "markdown",
   "metadata": {},
   "source": [
    "# First Concepts\n",
    "Reinforcement Learning is all about training agents in an environement with or without prior knowledge about the problem to solve."
   ]
  },
  {
   "cell_type": "markdown",
   "metadata": {},
   "source": [
    "# States and Observations\n",
    "- It's a complete overview and vision of the environement.\n",
    "- An Observation is a partial view of the state.\n",
    "- Both of them are represented by vectors or matrices.\n",
    "- If Observation = State we say that the environement is \"Fully Observed\" else it's \"Partially Observed\" (no complete information)\n",
    "-  The action is conditioned on the observation because the agent does not have access to the state."
   ]
  },
  {
   "cell_type": "markdown",
   "metadata": {},
   "source": [
    "# Action Spaces\n",
    "- Set of actions avaible for the agent for the actual environement depending on the state.\n",
    "- Some games have **discrete** action spaces (finite number of moves) like **GO** and **Chess** and other ones have **Continuous** one like : controlling a **robot in real environement** or **Starcraft II** ( real valued vectors )."
   ]
  },
  {
   "cell_type": "markdown",
   "metadata": {},
   "source": [
    "# Policy\n",
    "Represent the rule for the agent on how to choose the correct action (his brain).\n",
    "It can be deterministic denoted by $\\mu$\n",
    "\\begin{align}\n",
    "a_t & = \\mu(S_t)\n",
    "\\end{align}\n",
    "\n",
    "Or stochastic denoted by $ \\pi $ :\n",
    "\\begin{align}\n",
    "a_t & = \\pi_\\theta(.|S_t)\n",
    "\\end{align}"
   ]
  },
  {
   "cell_type": "markdown",
   "metadata": {},
   "source": [
    "In deep RL, we deal with parameterized policies: policies whose outputs are computable functions that depend on a set of parameters (eg the weights and biases of a neural network) which we can adjust to change the behavior via some optimization algorithm."
   ]
  },
  {
   "cell_type": "markdown",
   "metadata": {},
   "source": [
    "## Stochastic Policies\n",
    "The two most common kinds of stochastic policies in deep RL are categorical policies and diagonal Gaussian policies.\n",
    "\n",
    "Categorical policies can be used in discrete action spaces, while diagonal Gaussian policies are used in continuous action spaces.\n",
    "\n",
    "Two key computations are centrally important for using and training stochastic policies:\n",
    "\n",
    "- sampling actions from the policy,\n",
    "- and computing log likelihoods of particular actions $\\log \\pi_{\\theta}(a|s)$ .\n"
   ]
  },
  {
   "cell_type": "markdown",
   "metadata": {},
   "source": [
    "### Categorical Policies \n",
    "A categorical policy is like a classifier over discrete actions. You build the neural network for a categorical policy the same way you would for a classifier: the input is the observation, followed by some number of layers (possibly convolutional or densely-connected, depending on the kind of input), and then you have one final linear layer that gives you logits for each action, followed by a softmax to convert the logits into probabilities."
   ]
  },
  {
   "cell_type": "markdown",
   "metadata": {},
   "source": [
    "**Sampling** Given the probabilities for each action, frameworks like Tensorflow have built-in tools for sampling. For example, see the tf.distributions.Categorical documentation, or tf.multinomial.\n",
    "\n",
    "**Log-Likelihood** Denote the last layer of probabilities as P_{\\theta}(s). It is a vector with however many entries as there are actions, so we can treat the actions as indices for the vector. The log likelihood for an action a can then be obtained by indexing into the vector:\n",
    "$ \\log \\pi_{\\theta}(a|s) = \\log \\left[P_{\\theta}(s)\\right]_a $ .\n"
   ]
  },
  {
   "cell_type": "markdown",
   "metadata": {},
   "source": [
    "## Trajectory\n",
    "A trajectory $\\tau$ is a sequence of states and actions in the world,\n",
    "\n",
    "$\\tau = (s_0, a_0, s_1, a_1, ...)$.\n",
    "\n",
    "The very first state of the world, $s_0$, is randomly sampled from the start-state distribution, sometimes denoted by $\\rho_0$:\n",
    "\n",
    "$s_0 \\sim \\rho_0(\\cdot)$.\n",
    "\n",
    "State transitions (what happens to the world between the state at time t, $s_t$, and the state at t+1, $s_{t+1})$, are governed by the natural laws of the environment, and depend on only the most recent action, $a_t$. They can be either deterministic,\n",
    "\n",
    "$s_{t+1} = f(s_t, a_t)$\n",
    "\n",
    "or stochastic,\n",
    "\n",
    "$s_{t+1} \\sim P(\\cdot|s_t, a_t)$.\n",
    "\n",
    "Actions come from an agent according to its policy."
   ]
  },
  {
   "cell_type": "markdown",
   "metadata": {},
   "source": [
    "# Reward and Return\n",
    "The reward function **R** is the most important part of Reinforcement Learning, it depends on the current state, the action taken and the resulting state:\n",
    "\\begin{align}\n",
    "r_t = R(s_t, a_t, s_{t+1})\n",
    "\\end{align}\n",
    "\n",
    "although frequently this is simplified to just a dependence on the current state, $r_t = R(s_t)$, or state-action pair $r_t = R(s_t,a_t)$.\n",
    "The goal of the agent is to maximize some notion of cumulative reward over a trajectory.\n",
    "\n",
    "One kind of return is the finite-horizon undiscounted return, which is just the sum of rewards obtained in a fixed window of steps:\n",
    "\n",
    "$R(\\tau) = \\sum_{t=0}^T r_t$.\n",
    "\n",
    "Another kind of return is the infinite-horizon discounted return, which is the sum of all rewards ever obtained by the agent, but discounted by how far off in the future they’re obtained. This formulation of reward includes a discount factor \\gamma \\in (0,1):\n",
    "\n",
    "$R(\\tau) = \\sum_{t=0}^{\\infty} \\gamma^t r_t$.\n",
    "\n",
    "Why would we ever want a discount factor, though? Don’t we just want to get all rewards? We do, but the discount factor is both intuitively appealing and mathematically convenient. On an intuitive level: cash now is better than cash later. Mathematically: an infinite-horizon sum of rewards may not converge to a finite value, and is hard to deal with in equations. But with a discount factor and under reasonable conditions, the infinite sum converges."
   ]
  },
  {
   "cell_type": "markdown",
   "metadata": {},
   "source": [
    "## Reinforcement Learning Problem\n",
    "Whatever Return measure is chosen, the goal of Reinforcement Learning agent is to develop a policy to maximize it\n",
    "To talk about expected return, we first have to talk about probability distributions over trajectories.\n",
    "\n",
    "Let’s suppose that both the environment transitions and the policy are stochastic. In this case, the probability of a T -step trajectory is:\n",
    "\n",
    "$P(\\tau|\\pi) = \\rho_0 (s_0) \\prod_{t=0}^{T-1} P(s_{t+1} | s_t, a_t) \\pi(a_t | s_t)$\n",
    "\n",
    "The expected return (for whichever measure), denoted by J(\\pi), is then:\n",
    "\n",
    "$J(\\pi) = \\int_{\\tau} P(\\tau|\\pi) R(\\tau) = \\underE{\\tau\\sim \\pi}{R(\\tau)}$\n",
    "\n",
    "The central optimization problem in RL can then be expressed by\n",
    "\n",
    "$\\pi^* = \\arg \\max_{\\pi} J(\\pi)$\n",
    "\n",
    "with $\\pi^*$ being the optimal policy."
   ]
  },
  {
   "cell_type": "markdown",
   "metadata": {},
   "source": [
    "## Value Function\n",
    "It’s often useful to know the value of a state, or state-action pair. By value, we mean the expected return if you start in that state or state-action pair, and then act according to a particular policy forever after. Value functions are used, one way or another, in almost every RL algorithm.\n",
    "\n",
    "There are four main functions of note here.\n",
    "The On-Policy Value Function, $V^{\\pi}(s)$, which gives the expected return if you start in state s and always act according to policy \\pi:\n",
    "\n",
    "$V^{\\pi}(s) = \\underE{\\tau \\sim \\pi}{R(\\tau)\\left| s_0 = s\\right.}$\n",
    "\n",
    "The On-Policy Action-Value Function, $Q^{\\pi}(s,a)$, which gives the expected return if you start in state s, take an arbitrary action a (which may not have come from the policy), and then forever after act according to policy \\pi:\n",
    "\n",
    "$Q^{\\pi}(s,a) = \\underE{\\tau \\sim \\pi}{R(\\tau)\\left| s_0 = s, a_0 = a\\right.}$\n",
    "\n",
    "The Optimal Value Function, V^*(s), which gives the expected return if you start in state s and always act according to the optimal policy in the environment:\n",
    "\n",
    "$V^*(s) = \\max_{\\pi} \\underE{\\tau \\sim \\pi}{R(\\tau)\\left| s_0 = s\\right.}$\n",
    "\n",
    "The Optimal Action-Value Function, $Q^*(s,a)$, which gives the expected return if you start in state s, take an arbitrary action a, and then forever after act according to the optimal policy in the environment:\n",
    "\n",
    "$Q^*(s,a) = \\max_{\\pi} \\underE{\\tau \\sim \\pi}{R(\\tau)\\left| s_0 = s, a_0 = a\\right.}$\n",
    "\n",
    "\n",
    "You Should Know\n",
    "\n",
    "When we talk about value functions, if we do not make reference to time-dependence, we only mean expected infinite-horizon discounted return. Value functions for finite-horizon undiscounted return would need to accept time as an argument. Can you think about why? Hint: what happens when time’s up?\n",
    "\n",
    "You Should Know\n",
    "\n",
    "There are two key connections between the value function and the action-value function that come up pretty often:\n",
    "\n",
    "\n",
    "$V^{\\pi}(s) = \\underE{a\\sim \\pi}{Q^{\\pi}(s,a)}$\n",
    "\n",
    "and\n",
    "\n",
    "$V^*(s) = \\max_a Q^* (s,a)$\n",
    "\n",
    "These relations follow pretty directly from the definitions just given: can you prove them?"
   ]
  },
  {
   "cell_type": "markdown",
   "metadata": {},
   "source": [
    "## The Optimal Q-Function and the Optimal Action\n",
    "There is an important connection between the optimal action-value function $Q^*(s,a)$ and the action selected by the optimal policy. By definition, $Q^*(s,a)$ gives the expected return for starting in state s, taking (arbitrary) action a, and then acting according to the optimal policy forever after.\n",
    "\n",
    "The optimal policy in s will select whichever action maximizes the expected return from starting in s. As a result, if we have $Q^*$, we can directly obtain the optimal action, $a^*(s)$, via\n",
    "\n",
    "$a^*(s) = \\arg \\max_a Q^* (s,a)$\n",
    "\n",
    "Note: there may be multiple actions which maximize $Q^*(s,a)$, in which case, all of them are optimal, and the optimal policy may randomly select any of them. But there is always an optimal policy which deterministically selects an action."
   ]
  },
  {
   "cell_type": "markdown",
   "metadata": {},
   "source": [
    " ## Advantage Function\n",
    " Because sometimes we don't need to measure the best action, but to know how much an action is better than the other ones, that's the goal of the advantage function\n",
    " The advantage function $A^{\\pi}(s,a)$ corresponding to a policy $\\pi$ describes how much better it is to take a specific action a in state s, over randomly selecting an action according to $\\pi(\\cdot|s)$, assuming you act according to $\\pi$ forever after. Mathematically, the advantage function is defined by\n",
    "\n",
    "$A^{\\pi}(s,a) = Q^{\\pi}(s,a) - V^{\\pi}(s)$\n"
   ]
  },
  {
   "cell_type": "markdown",
   "metadata": {},
   "source": [
    "## Formalism\n",
    "\n",
    "So far, we’ve discussed the agent’s environment in an informal way, but if you try to go digging through the literature, you’re likely to run into the standard mathematical formalism for this setting: Markov Decision Processes (MDPs). An MDP is a 5-tuple, \\langle S, A, R, P, \\rho_0 \\rangle, where\n",
    "\n",
    "- S is the set of all valid states,\n",
    "- A is the set of all valid actions,\n",
    "- R : $S \\times A \\times S \\to \\mathbb{R}$ is the reward function, with $r_t = R(s_t, a_t, s_{t+1})$,\n",
    "- P : $S \\times A \\to \\mathcal{P}(S)$ is the transition probability function, with P(s'|s,a) being the probability of transitioning into state s' if you start in state s and take action a,\n",
    "    and $\\rho_0$ is the starting state distribution.\n",
    "\n",
    "The name Markov Decision Process refers to the fact that the system obeys the Markov property: transitions only depend on the most recent state and action, and no prior history.\n"
   ]
  },
  {
   "cell_type": "markdown",
   "metadata": {},
   "source": [
    "## Bellman Equation\n",
    "All four of the value functions obey special self-consistency equations called Bellman equations. The basic idea behind the Bellman equations is this:\n",
    "\n",
    "    The value of your starting point is the reward you expect to get from being there, plus the value of wherever you land next.\n",
    "\n",
    "The Bellman equations for the on-policy value functions are\n",
    "\n",
    "\\begin{align*} V^{\\pi}(s) &= \\undersetE{a \\sim \\pi \\\\ s'\\sim P}{r(s,a) + \\gamma V^{\\pi}(s')}, \\\\ Q^{\\pi}(s,a) &= \\undersetE{s'\\sim P}{r(s,a) + \\gamma \\undersetE{a'\\sim \\pi}{Q^{\\pi}(s',a')}}, \\end{align*}\n",
    "\n",
    "where s' \\sim P is shorthand for s' \\sim P(\\cdot |s,a), indicating that the next state s' is sampled from the environment’s transition rules; a \\sim \\pi is shorthand for a \\sim \\pi(\\cdot|s); and a' \\sim \\pi is shorthand for a' $\\sim \\pi(\\cdot|s')$.\n",
    "\n",
    "The Bellman equations for the optimal value functions are\n",
    "\n",
    "\\begin{align*} V^*(s) &= \\max_a \\undersetE{s'\\sim P}{r(s,a) + \\gamma V^*(s')}, \\\\ Q^*(s,a) &= \\undersetE{s'\\sim P}{r(s,a) + \\gamma \\max_{a'} Q^*(s',a')}. \\end{align*}\n",
    "\n",
    "The crucial difference between the Bellman equations for the on-policy value functions and the optimal value functions, is the absence or presence of the $\\max$ over actions. Its inclusion reflects the fact that whenever the agent gets to choose its action, in order to act optimally, it has to pick whichever action leads to the highest value."
   ]
  },
  {
   "cell_type": "code",
   "execution_count": null,
   "metadata": {},
   "outputs": [],
   "source": []
  }
 ],
 "metadata": {
  "kernelspec": {
   "display_name": "Python 3",
   "language": "python",
   "name": "python3"
  },
  "language_info": {
   "codemirror_mode": {
    "name": "ipython",
    "version": 3
   },
   "file_extension": ".py",
   "mimetype": "text/x-python",
   "name": "python",
   "nbconvert_exporter": "python",
   "pygments_lexer": "ipython3",
   "version": "3.7.5"
  }
 },
 "nbformat": 4,
 "nbformat_minor": 2
}
