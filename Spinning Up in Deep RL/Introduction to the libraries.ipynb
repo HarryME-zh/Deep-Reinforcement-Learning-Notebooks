{
 "cells": [
  {
   "cell_type": "markdown",
   "metadata": {},
   "source": [
    "# Setting up Frameworks\n",
    "### Spinning up :\n",
    "Framework with algorithms : "
   ]
  },
  {
   "cell_type": "markdown",
   "metadata": {},
   "source": [
    "sudo apt-get update && sudo apt-get install libopenmpi-dev\n",
    "git clone https://github.com/openai/spinningup.git\n",
    "cd spinningup\n",
    "pip install -e .\n",
    "\n",
    "### Mujoco for physics (like human physics..ect)\n",
    "pip install gym[mujoco,robotics]\n"
   ]
  },
  {
   "cell_type": "code",
   "execution_count": 1,
   "metadata": {},
   "outputs": [],
   "source": [
    "# Different kinds of Algorithms :\n",
    "## On-Policy :\n",
    "\n",
    "## Off-Policy : "
   ]
  },
  {
   "cell_type": "markdown",
   "metadata": {},
   "source": [
    "# Exemple of Script"
   ]
  },
  {
   "cell_type": "code",
   "execution_count": null,
   "metadata": {},
   "outputs": [],
   "source": [
    "from spinup import ppo\n",
    "import tensorflow as tf\n",
    "import gym\n",
    "env_fn = lambda : gym.make('LunarLander-v2')\n",
    "\n",
    "ac_kwargs = dict(hidden_sizes=[64,64], activation=tf.nn.relu)\n",
    "\n",
    "logger_kwargs = dict(output_dir='path/to/output_dir', exp_name='experiment_name')\n",
    "\n",
    "ppo(env_fn=env_fn, ac_kwargs=ac_kwargs, steps_per_epoch=5000, epochs=250, logger_kwargs=logger_kwargs)"
   ]
  },
  {
   "cell_type": "markdown",
   "metadata": {},
   "source": [
    "# ExperimentGrid\n",
    "Running an algorithm with multiple HyperParameters"
   ]
  },
  {
   "cell_type": "code",
   "execution_count": null,
   "metadata": {},
   "outputs": [],
   "source": [
    " from spinup.utils.run_utils import ExperimentGrid\n",
    " from spinup import ppo\n",
    " import tensorflow as tf\n",
    "\n",
    " if __name__ == '__main__':\n",
    "     import argparse\n",
    "     parser = argparse.ArgumentParser()\n",
    "     parser.add_argument('--cpu', type=int, default=4)\n",
    "     parser.add_argument('--num_runs', type=int, default=3)\n",
    "     args = parser.parse_args()\n",
    "\n",
    "     eg = ExperimentGrid(name='ppo-bench')\n",
    "     eg.add('env_name', 'CartPole-v0', '', True)\n",
    "     eg.add('seed', [10*i for i in range(args.num_runs)])\n",
    "     eg.add('epochs', 10)\n",
    "     eg.add('steps_per_epoch', 4000)\n",
    "     eg.add('ac_kwargs:hidden_sizes', [(32,), (64,64)], 'hid')\n",
    "     eg.add('ac_kwargs:activation', [tf.tanh, tf.nn.relu], '')\n",
    "     eg.run(ppo, num_cpu=args.cpu)"
   ]
  },
  {
   "cell_type": "markdown",
   "metadata": {},
   "source": [
    "After making the ExperimentGrid object, parameters are added to it with\n",
    "where in_name forces a parameter to appear in the experiment name, even if it has the same value across all experiments.\n",
    "\n",
    "After all parameters have been added,"
   ]
  },
  {
   "cell_type": "code",
   "execution_count": null,
   "metadata": {},
   "outputs": [],
   "source": [
    "eg.add(param_name, values, shorthand, in_name)"
   ]
  },
  {
   "cell_type": "code",
   "execution_count": null,
   "metadata": {},
   "outputs": [],
   "source": [
    "eg.run(thunk, **run_kwargs)"
   ]
  },
  {
   "cell_type": "code",
   "execution_count": null,
   "metadata": {},
   "outputs": [],
   "source": []
  }
 ],
 "metadata": {
  "kernelspec": {
   "display_name": "Python 3",
   "language": "python",
   "name": "python3"
  },
  "language_info": {
   "codemirror_mode": {
    "name": "ipython",
    "version": 3
   },
   "file_extension": ".py",
   "mimetype": "text/x-python",
   "name": "python",
   "nbconvert_exporter": "python",
   "pygments_lexer": "ipython3",
   "version": "3.7.5"
  }
 },
 "nbformat": 4,
 "nbformat_minor": 2
}
