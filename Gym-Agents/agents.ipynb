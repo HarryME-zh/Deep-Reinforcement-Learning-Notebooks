{
 "cells": [
  {
   "cell_type": "markdown",
   "metadata": {},
   "source": [
    "# Training an agent to play games"
   ]
  },
  {
   "cell_type": "markdown",
   "metadata": {},
   "source": [
    "First of all, we need to load the libraries : keras for the deep-q-network, and gym to create the environements ( state, reward, actions..ect).\n",
    "We also define the number of observe time ( from which the agent is gonna learn to play ), the epsilon ( probability of choosing random move ), and the gamma ( or the decremental factor time that defines the impact of early moves on a reward ).\n"
   ]
  },
  {
   "cell_type": "code",
   "execution_count": 1,
   "metadata": {},
   "outputs": [
    {
     "name": "stderr",
     "output_type": "stream",
     "text": [
      "Using TensorFlow backend.\n",
      "/usr/local/lib/python3.6/site-packages/ipykernel_launcher.py:13: UserWarning: Update your `Dense` call to the Keras 2 API: `Dense(20, input_shape=(2, 2), activation=\"relu\", kernel_initializer=\"uniform\")`\n",
      "  del sys.path[0]\n",
      "/usr/local/lib/python3.6/site-packages/ipykernel_launcher.py:15: UserWarning: Update your `Dense` call to the Keras 2 API: `Dense(18, activation=\"relu\", kernel_initializer=\"uniform\")`\n",
      "  from ipykernel import kernelapp as app\n",
      "/usr/local/lib/python3.6/site-packages/ipykernel_launcher.py:16: UserWarning: Update your `Dense` call to the Keras 2 API: `Dense(10, activation=\"relu\", kernel_initializer=\"uniform\")`\n",
      "  app.launch_new_instance()\n",
      "/usr/local/lib/python3.6/site-packages/ipykernel_launcher.py:17: UserWarning: Update your `Dense` call to the Keras 2 API: `Dense(3, activation=\"linear\", kernel_initializer=\"uniform\")`\n"
     ]
    },
    {
     "name": "stdout",
     "output_type": "stream",
     "text": [
      "\u001b[33mWARN: gym.spaces.Box autodetected dtype as <class 'numpy.float32'>. Please provide explicit dtype.\u001b[0m\n",
      "Number of observe time ?10000\n",
      "Probability of choosing random move ? 0.7\n",
      "Time factor ? (gamma)0.6\n",
      " Mini-batches size ? 200\n"
     ]
    }
   ],
   "source": [
    "from keras.models import Sequential\n",
    "from keras.layers import Flatten, Dense\n",
    "from collections import deque\n",
    "\n",
    "import random\n",
    "import numpy as np\n",
    "import gym\n",
    "\n",
    "env = gym.make('Pong-v4')\n",
    "\n",
    "model = Sequential()\n",
    "model.add(Dense(20, input_shape=(2,) + env.observation_space.shape, init='uniform', activation='relu'))\n",
    "model.add(Flatten())     \n",
    "model.add(Dense(18, init='uniform', activation='relu'))\n",
    "model.add(Dense(10, init='uniform', activation='relu'))\n",
    "model.add(Dense(env.action_space.n, init='uniform', activation='linear'))    \n",
    "\n",
    "model.compile(loss='mse', optimizer='adam', metrics=['accuracy'])\n",
    "\n",
    "\n",
    "# Hyper-Parameters\n",
    "D = deque()                                \n",
    "\n",
    "observetime = int(input(\"Number of observe time ?\"))                          # Number of timesteps we will be acting on the game and observing results\n",
    "epsilon = float(input(\"Probability of choosing random move ? \"))                              # Probability of doing a random move\n",
    "gamma = float(input(\"Time factor ? (gamma)\"))                                # Discounted future reward. How much we care about steps further in time\n",
    "mb_size = int(input( \" Mini-batches size ? \"))                               # Learning minibatch size"
   ]
  },
  {
   "cell_type": "markdown",
   "metadata": {},
   "source": [
    "We begin the game, at each iteration the agent choose according to epsilon if he does a random move or a Q-Based one, if he choose to follow the Q-value then he calls the modal ( that hasn't learned yet ).\n",
    "At each iteration of the games, we store every : state, action taken from that state, and the reward from it."
   ]
  },
  {
   "cell_type": "code",
   "execution_count": 2,
   "metadata": {},
   "outputs": [
    {
     "name": "stdout",
     "output_type": "stream",
     "text": [
      "Observe time finished\n"
     ]
    }
   ],
   "source": [
    "# Beginning of the game\n",
    "observation = env.reset()\n",
    "obs = np.expand_dims(observation, axis=0)  \n",
    "state = np.stack((obs, obs), axis=1)\n",
    "done = False\n",
    "for i in range(observetime):\n",
    "    if (np.random.rand()<= epsilon): # Random factor\n",
    "        action = np.random.randint(0, env.action_space.n, size=1)[0] # Random move\n",
    "    else:\n",
    "        Q = model.predict(state) # Q-based move, which is predicted by the modal\n",
    "        action = np.argmax(Q) \n",
    "    observation_new, reward, done, info = env.step(action) # Do the action and get the reward, state..ect.\n",
    "    obs_new = np.expand_dims(observation_new, axis=0)\n",
    "    state_new = np.append(np.expand_dims(obs_new, axis=0), state[:, :1, :], axis=1) \n",
    "    D.append((state, action, reward, state_new, done)) \n",
    "    state = state_new \n",
    "    if done:\n",
    "        env.reset()           # Restart game at the end\n",
    "        obs = np.expand_dims(observation, axis=0)     \n",
    "        state = np.stack((obs, obs), axis=1)\n",
    "print(\"Observe time finished\")"
   ]
  },
  {
   "cell_type": "markdown",
   "metadata": {},
   "source": [
    "We create some random samples of moves, and format for preparing the learning phase."
   ]
  },
  {
   "cell_type": "code",
   "execution_count": 3,
   "metadata": {},
   "outputs": [],
   "source": [
    "minibatch = random.sample(D, mb_size)                              \n",
    "inputs_shape = (mb_size,) + state.shape[1:]\n",
    "inputs = np.zeros(inputs_shape)\n",
    "targets = np.zeros((mb_size, env.action_space.n))"
   ]
  },
  {
   "cell_type": "markdown",
   "metadata": {},
   "source": [
    "We loop in the history stored, give the gamma factor to the early moves,after that the modal learn on the new Q-value ( that was modified by the new rewards )."
   ]
  },
  {
   "cell_type": "code",
   "execution_count": 4,
   "metadata": {},
   "outputs": [
    {
     "name": "stdout",
     "output_type": "stream",
     "text": [
      "Learning phase\n"
     ]
    }
   ],
   "source": [
    "print(\"Learning phase\")\n",
    "for i in range (0, mb_size):\n",
    "    state = minibatch[i][0]\n",
    "    action = minibatch[i][1]\n",
    "    reward = minibatch[i][2]\n",
    "    state_new = minibatch[i][3]\n",
    "    done = minibatch[i][4]\n",
    "    \n",
    "    inputs[i:i+1] = np.expand_dims(state, axis=0)\n",
    "    targets[i] = model.predict(state)\n",
    "    Q_sa = model.predict(state_new)\n",
    "    \n",
    "    if done:\n",
    "        targets[i, action] = reward # Normal reward \n",
    "    else:\n",
    "        targets[i, action] = reward + gamma * np.max(Q_sa) # Reward with time factor\n",
    "    model.train_on_batch(inputs, targets)"
   ]
  },
  {
   "cell_type": "markdown",
   "metadata": {},
   "source": [
    "Finally, we can test the agent and see how he performs."
   ]
  },
  {
   "cell_type": "code",
   "execution_count": 5,
   "metadata": {},
   "outputs": [
    {
     "name": "stdout",
     "output_type": "stream",
     "text": [
      "Play time\n",
      "End of the game\n"
     ]
    }
   ],
   "source": [
    "print(\"Play time\")\n",
    "observation = env.reset()\n",
    "obs = np.expand_dims(observation, axis=0)\n",
    "state = np.stack((obs, obs), axis=1)\n",
    "done = False\n",
    "tot_reward = 0.0\n",
    "while not done:\n",
    "    env.render()                    \n",
    "    Q = model.predict(state)        \n",
    "    action = np.argmax(Q)         \n",
    "    observation, reward, done, info = env.step(action)\n",
    "    obs = np.expand_dims(observation, axis=0)\n",
    "    state = np.append(np.expand_dims(obs, axis=0), state[:, :1, :], axis=1)    \n",
    "    tot_reward += reward\n",
    "print(\"End of the game\")\n"
   ]
  }
 ],
 "metadata": {
  "kernelspec": {
   "display_name": "Python 3",
   "language": "python",
   "name": "python3"
  },
  "language_info": {
   "codemirror_mode": {
    "name": "ipython",
    "version": 3
   },
   "file_extension": ".py",
   "mimetype": "text/x-python",
   "name": "python",
   "nbconvert_exporter": "python",
   "pygments_lexer": "ipython3",
   "version": "3.6.5"
  }
 },
 "nbformat": 4,
 "nbformat_minor": 2
}
